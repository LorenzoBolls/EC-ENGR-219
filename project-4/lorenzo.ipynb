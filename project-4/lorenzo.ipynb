{
 "cells": [
  {
   "cell_type": "markdown",
   "metadata": {},
   "source": [
    "# Question 9.1"
   ]
  },
  {
   "cell_type": "code",
   "execution_count": 14,
   "metadata": {},
   "outputs": [
    {
     "name": "stdout",
     "output_type": "stream",
     "text": [
      "             Avg Tweets per Hour  Avg Followers per Tweet  Avg Retweets per Tweet\n",
      "Hashtag                                                                          \n",
      "#superbowl             2072.1184                8814.9680                  2.3912\n",
      "#sb49                  1276.8571               10374.1603                  2.5271\n",
      "#patriots               750.8943                3280.4636                  1.7853\n",
      "#nfl                    397.0214                4662.3754                  1.5345\n",
      "#gohawks                292.4879                2217.9237                  2.0132\n",
      "#gopatriots              40.9547                1427.2526                  1.4082\n"
     ]
    }
   ],
   "source": [
    "from json import loads\n",
    "import os\n",
    "import pandas as pd\n",
    "import numpy as np\n",
    "from collections import defaultdict\n",
    "import datetime\n",
    "\n",
    "tweet_directory = './ECE219_tweet_data/'\n",
    "\n",
    "statistics = []\n",
    "\n",
    "# process each hashtag file\n",
    "for file in os.listdir(tweet_directory):\n",
    "    hashtag_name = file.split('.')[0].split('_')[1]\n",
    "\n",
    "    # initializing\n",
    "    total_followers = 0\n",
    "    total_retweets = 0\n",
    "    tweet_count = 0\n",
    "    tweets_per_hour = defaultdict(int)\n",
    "\n",
    "    earliest_time = float('inf')\n",
    "    latest_time = float('-inf')\n",
    "\n",
    "    with open(os.path.join(tweet_directory, file), encoding=\"utf8\") as tweet_file:\n",
    "        for line in tweet_file:\n",
    "            tweet_data = loads(line.strip())\n",
    "\n",
    "            followers_count = tweet_data['author']['followers']\n",
    "            retweets_count = tweet_data['metrics']['citations']['total']\n",
    "            tweet_time = tweet_data['citation_date']\n",
    "\n",
    "            # convert to hourly timestamp\n",
    "            timestamp = datetime.datetime.fromtimestamp(tweet_time)\n",
    "            hourly_timestamp = timestamp.replace(minute=0, second=0, microsecond=0)\n",
    "\n",
    "            total_followers += followers_count\n",
    "            total_retweets += retweets_count\n",
    "            tweets_per_hour[hourly_timestamp] += 1\n",
    "            tweet_count += 1\n",
    "\n",
    "            # track earliest and latest tweet timestamps\n",
    "            earliest_time = min(earliest_time, tweet_time)\n",
    "            latest_time = max(latest_time, tweet_time)\n",
    "\n",
    "    # compute total hours in the dataset (including empty hours)\n",
    "    total_hours = (latest_time - earliest_time) / 3600\n",
    "    avg_tweets_per_hour = tweet_count / total_hours if total_hours else 0\n",
    "    avg_followers_per_tweet = total_followers / tweet_count if tweet_count else 0\n",
    "    avg_retweets_per_tweet = total_retweets / tweet_count if tweet_count else 0\n",
    "\n",
    "    statistics.append({\n",
    "        \"Hashtag\": hashtag_name,\n",
    "        \"Avg Tweets per Hour\": avg_tweets_per_hour,\n",
    "        \"Avg Followers per Tweet\": avg_followers_per_tweet,\n",
    "        \"Avg Retweets per Tweet\": avg_retweets_per_tweet\n",
    "    })\n",
    "\n",
    "df_statistics = pd.DataFrame(statistics)\n",
    "df_statistics.set_index(\"Hashtag\", inplace=True)\n",
    "\n",
    "# descending order based on Avg Tweets per Hour\n",
    "df_statistics = df_statistics.sort_values(by=\"Avg Tweets per Hour\", ascending=False)\n",
    "\n",
    "# Display results\n",
    "pd.set_option('display.max_columns', None)  \n",
    "pd.set_option('display.expand_frame_repr', False) \n",
    "pd.set_option('display.float_format', '{:.4f}'.format)  \n",
    "\n",
    "print(df_statistics)"
   ]
  }
 ],
 "metadata": {
  "kernelspec": {
   "display_name": "base",
   "language": "python",
   "name": "python3"
  },
  "language_info": {
   "codemirror_mode": {
    "name": "ipython",
    "version": 3
   },
   "file_extension": ".py",
   "mimetype": "text/x-python",
   "name": "python",
   "nbconvert_exporter": "python",
   "pygments_lexer": "ipython3",
   "version": "3.12.7"
  }
 },
 "nbformat": 4,
 "nbformat_minor": 2
}
